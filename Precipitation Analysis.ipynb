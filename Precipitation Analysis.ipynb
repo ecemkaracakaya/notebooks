{
    "cells": [
        {
            "cell_type": "code",
            "execution_count": 4,
            "metadata": {},
            "outputs": [
                {
                    "name": "stdout",
                    "output_type": "stream",
                    "text": "+------------------------------------------------------------------------------------------------------------------------------------------------------------------------------------------+\n|REGION|CUSTOMER NO|CUSTOMER GLN CODE|CUS no|CUSTOMER NAME|GTN|GMID|G\u00dcNCEL GMID|LMID CODE|PRODUCT TITLE|IN-MARKET UNIT|REGION ACTUAL INVENTORY UNIT|IN-MARKET UNIT W/O FG|IN-MARKET FG UNIT|\n+------------------------------------------------------------------------------------------------------------------------------------------------------------------------------------------+\n|                                                                                                                                                                      |10254205|8680001...|\n|                                                                                                                                                                      |10254205|8680001...|\n|                                                                                                                                                                      |10254165|8680001...|\n|                                                                                                                                                                      |10254165|8680001...|\n|                                                                                                                                                                      |10254165|8680001...|\n+------------------------------------------------------------------------------------------------------------------------------------------------------------------------------------------+\nonly showing top 5 rows\n\n"
                },
                {
                    "data": {
                        "text/plain": "configurationName = os_99bb61e4f12f440591f9ac930179c32f_configs\ncos = com.ibm.ibmos2spark.CloudObjectStorage@4fb76f29\nspark = org.apache.spark.sql.SparkSession@1a801ede\ndfData1 = [REGION|CUSTOMER NO|CUSTOMER GLN CODE|CUS no|CUSTOMER NAME|GTN|GMID|G\u00dcNCEL GMID|LMID CODE|PRODUCT TITLE|IN-MARKET UNIT|REGION ACTUAL INVENTORY UNIT|IN-MARKET UNIT W/O FG|IN-MARKET FG UNIT: string]\n"
                    },
                    "metadata": {},
                    "output_type": "display_data"
                },
                {
                    "data": {
                        "text/plain": "getCredentials: ()scala.collection.mutable.HashMap[String,String]\n"
                    },
                    "metadata": {},
                    "output_type": "display_data"
                },
                {
                    "data": {
                        "text/plain": "[REGION|CUSTOMER NO|CUSTOMER GLN CODE|CUS no|CUSTOMER NAME|GTN|GMID|G\u00dcNCEL GMID|LMID CODE|PRODUCT TITLE|IN-MARKET UNIT|REGION ACTUAL INVENTORY UNIT|IN-MARKET UNIT W/O FG|IN-MARKET FG UNIT: string]"
                    },
                    "execution_count": 4,
                    "metadata": {},
                    "output_type": "execute_result"
                }
            ],
            "source": "// The code was removed by Watson Studio for sharing."
        },
        {
            "cell_type": "code",
            "execution_count": null,
            "metadata": {},
            "outputs": [],
            "source": ""
        }
    ],
    "metadata": {
        "kernelspec": {
            "display_name": "Scala 2.11 with Spark",
            "language": "scala",
            "name": "scala"
        },
        "language_info": {
            "codemirror_mode": "text/x-scala",
            "file_extension": ".scala",
            "mimetype": "text/x-scala",
            "name": "scala",
            "pygments_lexer": "scala",
            "version": "2.11.12"
        }
    },
    "nbformat": 4,
    "nbformat_minor": 1
}